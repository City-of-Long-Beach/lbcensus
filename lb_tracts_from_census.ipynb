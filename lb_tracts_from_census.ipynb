{
 "cells": [
  {
   "cell_type": "code",
   "execution_count": null,
   "id": "f59f4740",
   "metadata": {},
   "outputs": [],
   "source": [
    "import pandas as pd\n",
    "import geopandas as gpd\n",
    "import matplotlib.pyplot as plt\n"
   ]
  },
  {
   "cell_type": "code",
   "execution_count": null,
   "id": "a042a24a",
   "metadata": {},
   "outputs": [],
   "source": [
    "## Census Tract GeoID for Long Beach\n",
    "LB_GEOID = '0643000'\n"
   ]
  },
  {
   "cell_type": "code",
   "execution_count": null,
   "id": "102f09e4",
   "metadata": {},
   "outputs": [],
   "source": [
    "# Grab California Metropolitan Service Area Dataframe from Census\n",
    "## Update the URL to match the census survey you are interested in\n",
    "\n",
    "ca_msa_url = r'https://www2.census.gov/geo/tiger/TIGER2020/PLACE/tl_2020_06_place.zip'\n",
    "ca_msa = gpd.read_file(ca_msa_url)\n"
   ]
  },
  {
   "cell_type": "code",
   "execution_count": null,
   "id": "f9e7de57",
   "metadata": {},
   "outputs": [],
   "source": [
    "## Look at top few rows for sanity check\n",
    "ca_msa.head()"
   ]
  },
  {
   "cell_type": "code",
   "execution_count": null,
   "id": "c4f63499",
   "metadata": {},
   "outputs": [],
   "source": [
    "## Extract MSA boundary for Long Beach\n",
    "lb_msa = ca_msa[ca_msa.GEOID== LB_GEOID]"
   ]
  },
  {
   "cell_type": "code",
   "execution_count": null,
   "id": "a4cb7bfb",
   "metadata": {},
   "outputs": [],
   "source": [
    "## Sanity Check for the Boundary\n",
    "lb_msa.plot(facecolor='white',edgecolor='#0A324C')"
   ]
  },
  {
   "cell_type": "code",
   "execution_count": null,
   "id": "cf5a14fb",
   "metadata": {},
   "outputs": [],
   "source": [
    "## Fetch all census tracts \n",
    "ca_tracts_url = r'https://www2.census.gov/geo/tiger/TIGER2020/TRACT/tl_2020_06_tract.zip'\n",
    "ca_tracts = gpd.read_file(ca_tracts_url)"
   ]
  },
  {
   "cell_type": "code",
   "execution_count": null,
   "id": "42bdc88b",
   "metadata": {},
   "outputs": [],
   "source": [
    "## Sanity check CA tracts\n",
    "## Plotting this takes a while\n"
   ]
  },
  {
   "cell_type": "code",
   "execution_count": null,
   "id": "fbbea600",
   "metadata": {},
   "outputs": [],
   "source": [
    "ca_tracts.plot(figsize=[15,15])"
   ]
  },
  {
   "cell_type": "code",
   "execution_count": null,
   "id": "60ac7ca3",
   "metadata": {},
   "outputs": [],
   "source": [
    "## Now we clip the tracts to Long Beach Boundary\n",
    "\n",
    "lb_tracts = ca_tracts.clip(lb_msa)"
   ]
  },
  {
   "cell_type": "code",
   "execution_count": null,
   "id": "32589d5b",
   "metadata": {},
   "outputs": [],
   "source": [
    "lb_tracts.head()"
   ]
  },
  {
   "cell_type": "code",
   "execution_count": null,
   "id": "e40e3a98",
   "metadata": {},
   "outputs": [],
   "source": [
    "lb_tracts.plot(figsize=[15,15])"
   ]
  },
  {
   "cell_type": "code",
   "execution_count": null,
   "id": "77560be9",
   "metadata": {},
   "outputs": [],
   "source": [
    "## Save it to a file\n",
    "lb_tracts.to_csv('./data/lb_tracts.csv',index=False)"
   ]
  },
  {
   "cell_type": "code",
   "execution_count": null,
   "id": "cd22dbee",
   "metadata": {},
   "outputs": [],
   "source": []
  }
 ],
 "metadata": {
  "kernelspec": {
   "display_name": "Python 3 (ipykernel)",
   "language": "python",
   "name": "python3"
  },
  "language_info": {
   "codemirror_mode": {
    "name": "ipython",
    "version": 3
   },
   "file_extension": ".py",
   "mimetype": "text/x-python",
   "name": "python",
   "nbconvert_exporter": "python",
   "pygments_lexer": "ipython3",
   "version": "3.10.6"
  }
 },
 "nbformat": 4,
 "nbformat_minor": 5
}
